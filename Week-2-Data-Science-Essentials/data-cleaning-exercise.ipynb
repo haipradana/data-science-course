{
 "cells": [
  {
   "cell_type": "markdown",
   "metadata": {},
   "source": [
    "### Exercise 1: clean dataset by handlinng missing values and renaminmg columns"
   ]
  },
  {
   "cell_type": "code",
   "execution_count": 2,
   "metadata": {},
   "outputs": [],
   "source": [
    "import pandas as pd\n",
    "import numpy as np"
   ]
  },
  {
   "cell_type": "code",
   "execution_count": 3,
   "metadata": {},
   "outputs": [
    {
     "name": "stdout",
     "output_type": "stream",
     "text": [
      "Original Dataset: \n",
      "     Name   Age  Score\n",
      "0  Alice  25.0   80.0\n",
      "1    Bob   NaN   90.0\n",
      "2    NaN  30.0    NaN\n",
      "3  David  40.0   95.0\n"
     ]
    }
   ],
   "source": [
    "data = {\n",
    "    \"Name\": [\"Alice\", \"Bob\", np.nan, \"David\"],\n",
    "    \"Age\": [25, np.nan, 30, 40],\n",
    "    \"Score\": [80, 90, np.nan, 95]\n",
    "}\n",
    "df = pd.DataFrame(data)\n",
    "\n",
    "print(f\"Original Dataset: \\n {df}\")"
   ]
  },
  {
   "cell_type": "code",
   "execution_count": 10,
   "metadata": {},
   "outputs": [
    {
     "name": "stdout",
     "output_type": "stream",
     "text": [
      "Dataset: \n",
      "     Name   Age  Score\n",
      "0  Alice  25.0   80.0\n",
      "1    Bob  32.0   90.0\n",
      "2    NaN  30.0   92.5\n",
      "3  David  40.0   95.0\n"
     ]
    }
   ],
   "source": [
    "df[\"Age\"] = round(df[\"Age\"].fillna(df[\"Age\"].mean()))\n",
    "df[\"Score\"] = df[\"Score\"].interpolate()\n",
    "\n"
   ]
  },
  {
   "cell_type": "code",
   "execution_count": 11,
   "metadata": {},
   "outputs": [
    {
     "name": "stdout",
     "output_type": "stream",
     "text": [
      "Dataset: \n",
      "   Student_Name   Age  Score\n",
      "0        Alice  25.0   80.0\n",
      "1          Bob  32.0   90.0\n",
      "2          NaN  30.0   92.5\n",
      "3        David  40.0   95.0\n"
     ]
    }
   ],
   "source": [
    "#rename column\n",
    "df = df.rename(columns={\"Name\":\"Student_Name\"})\n",
    "print(f\"Dataset: \\n {df}\")"
   ]
  },
  {
   "cell_type": "markdown",
   "metadata": {},
   "source": [
    "### Merge Two Datasets and Perform Data Transformation"
   ]
  },
  {
   "cell_type": "code",
   "execution_count": 12,
   "metadata": {},
   "outputs": [
    {
     "name": "stdout",
     "output_type": "stream",
     "text": [
      "Dataset 1: \n",
      "    ID   Name  Age\n",
      "0   1  Alice   23\n",
      "1   2    Bob   24\n",
      "2   3   Dana   20\n",
      "Dataset 2: \n",
      "    ID  Score\n",
      "0   1     65\n",
      "1   2     80\n",
      "2   3     72\n"
     ]
    }
   ],
   "source": [
    "df1 = pd.DataFrame({\n",
    "    \"ID\": [1, 2, 3],\n",
    "    \"Name\": [\"Alice\", \"Bob\", \"Dana\"],\n",
    "    \"Age\": [23, 24, 20]\n",
    "})\n",
    "\n",
    "df2 = pd.DataFrame({\n",
    "    \"ID\": [1, 2, 3],\n",
    "    \"Score\": [65, 80, 72]\n",
    "})\n",
    "\n",
    "print(f\"Dataset 1: \\n {df1}\")\n",
    "print(f\"Dataset 2: \\n {df2}\")"
   ]
  },
  {
   "cell_type": "code",
   "execution_count": 14,
   "metadata": {},
   "outputs": [
    {
     "name": "stdout",
     "output_type": "stream",
     "text": [
      "Dataset merged: \n",
      "    ID   Name  Age  Score\n",
      "0   1  Alice   23     65\n",
      "1   2    Bob   24     80\n",
      "2   3   Dana   20     72\n"
     ]
    }
   ],
   "source": [
    "merged = pd.merge(df1, df2, how=\"inner\", on=\"ID\")\n",
    "print(f\"Dataset merged: \\n {merged}\")"
   ]
  },
  {
   "cell_type": "code",
   "execution_count": 15,
   "metadata": {},
   "outputs": [
    {
     "name": "stdout",
     "output_type": "stream",
     "text": [
      "Dataset transformed: \n",
      "    ID   Name  Age  Score  Score_percentage\n",
      "0   1  Alice   23     65              65.0\n",
      "1   2    Bob   24     80              80.0\n",
      "2   3   Dana   20     72              72.0\n"
     ]
    }
   ],
   "source": [
    "merged[\"Score_percentage\"] = (merged[\"Score\"] / 100) * 100\n",
    "print(f\"Dataset transformed: \\n {merged}\")"
   ]
  },
  {
   "cell_type": "code",
   "execution_count": null,
   "metadata": {},
   "outputs": [],
   "source": []
  }
 ],
 "metadata": {
  "kernelspec": {
   "display_name": "rapids-env",
   "language": "python",
   "name": "python3"
  },
  "language_info": {
   "codemirror_mode": {
    "name": "ipython",
    "version": 3
   },
   "file_extension": ".py",
   "mimetype": "text/x-python",
   "name": "python",
   "nbconvert_exporter": "python",
   "pygments_lexer": "ipython3",
   "version": "3.9.15"
  }
 },
 "nbformat": 4,
 "nbformat_minor": 2
}
