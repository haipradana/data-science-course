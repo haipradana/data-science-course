{
 "cells": [
  {
   "cell_type": "code",
   "execution_count": null,
   "metadata": {},
   "outputs": [],
   "source": [
    "grouped = df.groupby(\"column_name\")\n",
    "\n",
    "for name, group in grouped:\n",
    "    print(name)\n",
    "    print(group)\n",
    "    \n",
    "grouped.mean()\n",
    "grouped.sum()"
   ]
  },
  {
   "cell_type": "code",
   "execution_count": null,
   "metadata": {},
   "outputs": [],
   "source": [
    "df.groupby(\"category_column\")[\"numeric_column\"].mean()\n",
    "df.groupby(\"category_column\").agg({\"numeric_column\": [\"mean\", \"max\",\"min\"]})"
   ]
  },
  {
   "cell_type": "code",
   "execution_count": null,
   "metadata": {},
   "outputs": [],
   "source": [
    "pivot = df.pivot_table(\n",
    "    value=\"numeric_column\",\n",
    "    index=\"category_column\",\n",
    "    aggfunc=\"mean\"\n",
    ")\n",
    "\n",
    "def range_func(x):\n",
    "    return x.max() - x.min()\n",
    "\n",
    "df.groupby(\"category_column\")[\"numeric_column\"].agg(range_func)\n",
    "df.groupby(\"category_column\")[\"numeric_column\"].mean()\n",
    "df.groupby(\"category_column\")[\"numeric_column\"].max()\n",
    "df.groupby(\"category_column\")[\"numeric_column\"].min()"
   ]
  }
 ],
 "metadata": {
  "language_info": {
   "name": "python"
  }
 },
 "nbformat": 4,
 "nbformat_minor": 2
}
