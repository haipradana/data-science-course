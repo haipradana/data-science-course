{
 "cells": [
  {
   "cell_type": "code",
   "execution_count": 2,
   "metadata": {},
   "outputs": [],
   "source": [
    "import pandas as pd"
   ]
  },
  {
   "cell_type": "code",
   "execution_count": 7,
   "metadata": {},
   "outputs": [
    {
     "name": "stdout",
     "output_type": "stream",
     "text": [
      "Original Dataset: \n",
      "   class  score  age\n",
      "0     A     87   27\n",
      "1     B     85   22\n",
      "2     C     94   21\n",
      "3     D     67   20\n"
     ]
    }
   ],
   "source": [
    "data = {\n",
    "    \"class\": [\"A\", \"B\", \"C\", \"D\"],\n",
    "    \"score\": [87, 85, 94, 67],\n",
    "    \"age\": [27, 22, 21, 20]\n",
    "}\n",
    "\n",
    "df = pd.DataFrame(data)\n",
    "\n",
    "print(f\"Original Dataset: \\n {df}\")"
   ]
  },
  {
   "cell_type": "code",
   "execution_count": 8,
   "metadata": {},
   "outputs": [
    {
     "name": "stdout",
     "output_type": "stream",
     "text": [
      "       score   age\n",
      "class             \n",
      "A       87.0  27.0\n",
      "B       85.0  22.0\n",
      "C       94.0  21.0\n",
      "D       67.0  20.0\n"
     ]
    }
   ],
   "source": [
    "grouped = df.groupby(\"class\").mean()\n",
    "print(grouped)"
   ]
  },
  {
   "cell_type": "markdown",
   "metadata": {},
   "source": [
    "### Calculate summary statistic for grouped data"
   ]
  },
  {
   "cell_type": "code",
   "execution_count": 15,
   "metadata": {},
   "outputs": [
    {
     "name": "stdout",
     "output_type": "stream",
     "text": [
      "      score           age        \n",
      "       mean max min  mean max min\n",
      "class                            \n",
      "A      87.0  87  87  27.0  27  27\n",
      "B      85.0  85  85  22.0  22  22\n",
      "C      94.0  94  94  21.0  21  21\n",
      "D      67.0  67  67  20.0  20  20\n"
     ]
    }
   ],
   "source": [
    "stats = df.groupby(\"class\").agg(\n",
    "    {\"score\": [\"mean\", \"max\", \"min\"], \n",
    "        \"age\": [\"mean\", \"max\", \"min\"]}\n",
    ")\n",
    "\n",
    "print(stats)"
   ]
  }
 ],
 "metadata": {
  "kernelspec": {
   "display_name": "rapids-env",
   "language": "python",
   "name": "python3"
  },
  "language_info": {
   "codemirror_mode": {
    "name": "ipython",
    "version": 3
   },
   "file_extension": ".py",
   "mimetype": "text/x-python",
   "name": "python",
   "nbconvert_exporter": "python",
   "pygments_lexer": "ipython3",
   "version": "3.9.15"
  }
 },
 "nbformat": 4,
 "nbformat_minor": 2
}
