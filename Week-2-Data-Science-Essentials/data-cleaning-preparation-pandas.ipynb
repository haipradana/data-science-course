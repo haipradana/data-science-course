{
 "cells": [
  {
   "cell_type": "markdown",
   "metadata": {},
   "source": [
    "### missing value handler"
   ]
  },
  {
   "cell_type": "code",
   "execution_count": null,
   "metadata": {},
   "outputs": [],
   "source": [
    "# Drop\n",
    "df = df.dropna()\n",
    "df = df.dropna(axis=1)"
   ]
  },
  {
   "cell_type": "code",
   "execution_count": null,
   "metadata": {},
   "outputs": [],
   "source": [
    "# Fill it\n",
    "df[\"column_name\"] = df.[\"column_name\"].fillna(0)\n",
    "df.fillna(method=\"ffill\")\n",
    "df.fillna(method=\"bfill\")"
   ]
  },
  {
   "cell_type": "code",
   "execution_count": null,
   "metadata": {},
   "outputs": [],
   "source": [
    "#interpolation\n",
    "df[\"column_name\"] = df.[\"column_name\"].interpolate()"
   ]
  },
  {
   "cell_type": "markdown",
   "metadata": {},
   "source": [
    "### Data transofrmation"
   ]
  },
  {
   "cell_type": "code",
   "execution_count": null,
   "metadata": {},
   "outputs": [],
   "source": [
    "# RENAME\n",
    "df = df.rename(columns={\"old_name\": \"new_name\"})\n",
    "\n",
    "df[\"column_name\"] = df[\"columns_name\"].astype(\"float\")\n",
    "df[\"column_name\"] = pd.to_datetime[\"column_name\"]\n",
    "\n",
    "df[\"new_column\"] = df[\"existing_column\"] * 2"
   ]
  },
  {
   "cell_type": "markdown",
   "metadata": {},
   "source": [
    "### Combining and Merging DataFrames "
   ]
  },
  {
   "cell_type": "code",
   "execution_count": null,
   "metadata": {},
   "outputs": [],
   "source": [
    "combined = pd.concat([df1, df2], axis=0)\n",
    "combined = pd.concat([df1, df2], axis=1)\n",
    "\n",
    "merged = pd.merge(df1, df2, on=\"common_column\")\n",
    "merged = pd.merge(df1, df2, how=\"left\", on=\"common_column\")\n",
    "merged = pd.merge(df1, df2, how=\"inner\", on=\"common_column\")\n",
    "\n",
    "joined = df1.join(df2, how=\"inner\")"
   ]
  },
  {
   "cell_type": "markdown",
   "metadata": {},
   "source": [
    "### add"
   ]
  },
  {
   "cell_type": "code",
   "execution_count": null,
   "metadata": {},
   "outputs": [],
   "source": [
    "# Hitung persentase missing value per kolom\n",
    "missing_percentage = df.isnull().mean() * 100\n",
    "\n",
    "# Tentukan kolom yang akan di-drop (missing value > 50%)\n",
    "columns_to_drop = missing_percentage[missing_percentage > 50].index\n",
    "\n",
    "# Drop kolom tersebut\n",
    "df_cleaned = df.drop(columns=columns_to_drop)"
   ]
  }
 ],
 "metadata": {
  "language_info": {
   "name": "python"
  }
 },
 "nbformat": 4,
 "nbformat_minor": 2
}
