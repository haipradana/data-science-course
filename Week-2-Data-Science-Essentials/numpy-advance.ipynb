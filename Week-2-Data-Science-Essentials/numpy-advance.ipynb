{
 "cells": [
  {
   "cell_type": "code",
   "execution_count": 1,
   "metadata": {},
   "outputs": [],
   "source": [
    "import numpy as np"
   ]
  },
  {
   "cell_type": "code",
   "execution_count": 2,
   "metadata": {},
   "outputs": [
    {
     "name": "stdout",
     "output_type": "stream",
     "text": [
      "[11 12 13]\n"
     ]
    }
   ],
   "source": [
    "arr = np.array([1,2,3])\n",
    "print(arr + 10)"
   ]
  },
  {
   "cell_type": "code",
   "execution_count": 3,
   "metadata": {},
   "outputs": [
    {
     "name": "stdout",
     "output_type": "stream",
     "text": [
      "[[2 2 4]\n",
      " [5 5 7]]\n"
     ]
    }
   ],
   "source": [
    "matrix = np.array([[1,2,3], [4,5,6]])\n",
    "vector = np.array([1,0,1])\n",
    "print(matrix + vector)"
   ]
  },
  {
   "cell_type": "markdown",
   "metadata": {},
   "source": [
    "### aggregation funct"
   ]
  },
  {
   "cell_type": "code",
   "execution_count": 6,
   "metadata": {},
   "outputs": [
    {
     "name": "stdout",
     "output_type": "stream",
     "text": [
      "sum: 21\n",
      "std dev: 1.707825127659933\n",
      "sum along rows: [ 6 15]\n",
      "sum along cols: [5 7 9]\n"
     ]
    }
   ],
   "source": [
    "arr = np.array([[1,2,3], [4,5,6]])\n",
    "print(f\"sum: {np.sum(arr)}\")\n",
    "print(f\"std dev: {np.std(arr)}\")\n",
    "print(f\"sum along rows: {np.sum(arr, axis=1)}\")\n",
    "print(f\"sum along cols: {np.sum(arr, axis=0)}\")\n"
   ]
  },
  {
   "cell_type": "code",
   "execution_count": 7,
   "metadata": {},
   "outputs": [
    {
     "name": "stdout",
     "output_type": "stream",
     "text": [
      "evens:  [2 4 6]\n",
      "modified arr:  [1 2 3 1 1 1]\n"
     ]
    }
   ],
   "source": [
    "#Boolean indexing and filtering\n",
    "\n",
    "arr = np.array([1,2,3,4,5,6])\n",
    "\n",
    "evens = arr[arr % 2 == 0]\n",
    "print(\"evens: \", evens)\n",
    "\n",
    "arr[arr > 3] = 1\n",
    "print(\"modified arr: \", arr)"
   ]
  },
  {
   "cell_type": "code",
   "execution_count": 8,
   "metadata": {},
   "outputs": [],
   "source": [
    "#Random number generation and Setting Seeds\n",
    "np.random.seed(42)\n",
    "\n",
    "#supaya selalu sama dalam setiap devices"
   ]
  },
  {
   "cell_type": "markdown",
   "metadata": {},
   "source": [
    "## Exercise 1"
   ]
  },
  {
   "cell_type": "code",
   "execution_count": 10,
   "metadata": {},
   "outputs": [
    {
     "name": "stdout",
     "output_type": "stream",
     "text": [
      "Add: \n",
      " [[2 2 2]\n",
      " [5 5 5]\n",
      " [8 8 8]]\n",
      "multipication : \n",
      " [[ 2  4  6]\n",
      " [ 8 10 12]\n",
      " [14 16 18]]\n"
     ]
    }
   ],
   "source": [
    "matrix = np.array([[1,2,3], [4, 5, 6], [7, 8, 9]])\n",
    "vector = np.array([1, 0, -1])\n",
    "\n",
    "result_add = matrix +vector\n",
    "print(\"Add: \\n\", result_add)\n",
    "\n",
    "mul = matrix * 2\n",
    "print(\"multipication : \\n\", mul)"
   ]
  },
  {
   "cell_type": "markdown",
   "metadata": {},
   "source": [
    "## Exercise 2\n",
    "generate and filter a random dataset"
   ]
  },
  {
   "cell_type": "code",
   "execution_count": 12,
   "metadata": {},
   "outputs": [
    {
     "name": "stdout",
     "output_type": "stream",
     "text": [
      "original dataset: \n",
      " [[12 22 44 25 49]\n",
      " [27 42 28 16 15]\n",
      " [47 44  3 37  7]\n",
      " [21  9 39 18  4]\n",
      " [25 14 50  9 26]]\n"
     ]
    }
   ],
   "source": [
    "dataset = np.random.randint(1, 51, size=(5,5))\n",
    "print(\"original dataset: \\n\", dataset)"
   ]
  },
  {
   "cell_type": "code",
   "execution_count": 13,
   "metadata": {},
   "outputs": [
    {
     "name": "stdout",
     "output_type": "stream",
     "text": [
      "modified: \n",
      " [[12 22  0 25  0]\n",
      " [ 0  0  0 16 15]\n",
      " [ 0  0  3  0  7]\n",
      " [21  9  0 18  4]\n",
      " [25 14  0  9  0]]\n"
     ]
    }
   ],
   "source": [
    "dataset[dataset > 25] = 0\n",
    "print(\"modified: \\n\", dataset)"
   ]
  },
  {
   "cell_type": "code",
   "execution_count": 15,
   "metadata": {},
   "outputs": [
    {
     "name": "stdout",
     "output_type": "stream",
     "text": [
      "sum: 200\n",
      "mean: 8.0\n"
     ]
    }
   ],
   "source": [
    "print(f\"sum: {np.sum(dataset)}\")\n",
    "print(f\"mean: {np.mean(dataset)}\")"
   ]
  },
  {
   "cell_type": "code",
   "execution_count": null,
   "metadata": {},
   "outputs": [],
   "source": []
  }
 ],
 "metadata": {
  "kernelspec": {
   "display_name": "rapids-env",
   "language": "python",
   "name": "python3"
  },
  "language_info": {
   "codemirror_mode": {
    "name": "ipython",
    "version": 3
   },
   "file_extension": ".py",
   "mimetype": "text/x-python",
   "name": "python",
   "nbconvert_exporter": "python",
   "pygments_lexer": "ipython3",
   "version": "3.9.15"
  }
 },
 "nbformat": 4,
 "nbformat_minor": 2
}
